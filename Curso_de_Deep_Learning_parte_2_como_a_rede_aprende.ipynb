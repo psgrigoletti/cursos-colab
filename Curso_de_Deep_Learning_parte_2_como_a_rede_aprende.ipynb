{
  "nbformat": 4,
  "nbformat_minor": 0,
  "metadata": {
    "colab": {
      "name": "Curso_de_Deep_Learning_parte_2_como_a_rede_aprende.ipynb",
      "provenance": [],
      "authorship_tag": "ABX9TyMIjh4fpBCFsR8sYiB4A8/5",
      "include_colab_link": true
    },
    "kernelspec": {
      "name": "python3",
      "display_name": "Python 3"
    },
    "language_info": {
      "name": "python"
    }
  },
  "cells": [
    {
      "cell_type": "markdown",
      "metadata": {
        "id": "view-in-github",
        "colab_type": "text"
      },
      "source": [
        "<a href=\"https://colab.research.google.com/github/psgrigoletti/cursos-colab/blob/main/Curso_de_Deep_Learning_parte_2_como_a_rede_aprende.ipynb\" target=\"_parent\"><img src=\"https://colab.research.google.com/assets/colab-badge.svg\" alt=\"Open In Colab\"/></a>"
      ]
    },
    {
      "cell_type": "code",
      "execution_count": null,
      "metadata": {
        "id": "MIpJSMNprsiP"
      },
      "outputs": [],
      "source": [
        "# Curso_de_Deep_Learning_parte_2_como_a_rede_aprende\n",
        "\n",
        "Link do curso: https://cursos.alura.com.br/course/deep-learning-como-a-rede-aprende/\n",
        "Link do projeto: "
      ]
    },
    {
      "cell_type": "code",
      "source": [
        ""
      ],
      "metadata": {
        "id": "26Kpv7EAsMVA"
      },
      "execution_count": null,
      "outputs": []
    }
  ]
}