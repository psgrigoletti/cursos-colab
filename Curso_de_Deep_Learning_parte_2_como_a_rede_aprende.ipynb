{
  "nbformat": 4,
  "nbformat_minor": 0,
  "metadata": {
    "colab": {
      "name": "Curso_de_Deep_Learning_parte_2_como_a_rede_aprende.ipynb",
      "provenance": [],
      "collapsed_sections": [],
      "authorship_tag": "ABX9TyMnAWc9sy5CHQyBkDkVECTM",
      "include_colab_link": true
    },
    "kernelspec": {
      "name": "python3",
      "display_name": "Python 3"
    },
    "language_info": {
      "name": "python"
    }
  },
  "cells": [
    {
      "cell_type": "markdown",
      "metadata": {
        "id": "view-in-github",
        "colab_type": "text"
      },
      "source": [
        "<a href=\"https://colab.research.google.com/github/psgrigoletti/cursos-colab/blob/main/Curso_de_Deep_Learning_parte_2_como_a_rede_aprende.ipynb\" target=\"_parent\"><img src=\"https://colab.research.google.com/assets/colab-badge.svg\" alt=\"Open In Colab\"/></a>"
      ]
    },
    {
      "cell_type": "markdown",
      "source": [
        "# Curso de Deep Learning parte 2: como a rede aprende\n",
        "\n",
        "Curso: https://cursos.alura.com.br/course/deep-learning-como-a-rede-aprende/\n",
        "\n",
        "Projeto no git: https://github.com/cassiasamp/keras-tensorflow-2/"
      ],
      "metadata": {
        "id": "7I91qrYcsm3q"
      }
    },
    {
      "cell_type": "code",
      "source": [
        "import tensorflow\n",
        "from tensorflow import keras\n",
        "import matplotlib.pyplot as plt\n",
        "import numpy as np\n",
        "from tensorflow.keras.models import load_model"
      ],
      "metadata": {
        "id": "26Kpv7EAsMVA"
      },
      "execution_count": 11,
      "outputs": []
    },
    {
      "cell_type": "code",
      "source": [
        "dataset = keras.datasets.fashion_mnist\n",
        "((imagens_treino, identificacoes_treino), (imagens_teste, identificacoes_teste)) = dataset.load_data()"
      ],
      "metadata": {
        "id": "uVZH9JFPtZ0T"
      },
      "execution_count": 12,
      "outputs": []
    },
    {
      "cell_type": "code",
      "source": [
        "total_de_classificacoes = 10\n",
        "nomes_de_classificacoes = ['Camiseta', 'Calça', 'Pullover', \n",
        "                           'Vestido', 'Casaco', 'Sandália', 'Camisa',\n",
        "                           'Tênis', 'Bolsa', 'Bota']"
      ],
      "metadata": {
        "id": "843lisqBtbS9"
      },
      "execution_count": 13,
      "outputs": []
    },
    {
      "cell_type": "code",
      "source": [
        "imagens_treino = imagens_treino/float(255)\n",
        "imagens_teste = imagens_teste/float(255) "
      ],
      "metadata": {
        "id": "nSxt_Tgotdt1"
      },
      "execution_count": 14,
      "outputs": []
    },
    {
      "cell_type": "code",
      "source": [
        "modelo = keras.Sequential([ \n",
        "    keras.layers.Flatten(input_shape=(28, 28)),\n",
        "    keras.layers.Dense(256, activation=tensorflow.nn.relu),\n",
        "    keras.layers.Dropout(0.2),\n",
        "    keras.layers.Dense(10, activation=tensorflow.nn.softmax)\n",
        "])\n",
        "\n",
        "modelo.compile(optimizer='adam', \n",
        "               loss='sparse_categorical_crossentropy',\n",
        "               metrics=['accuracy'])\n",
        "\n",
        "historico = modelo.fit(imagens_treino, identificacoes_treino, epochs=5, validation_split=0.2)"
      ],
      "metadata": {
        "colab": {
          "base_uri": "https://localhost:8080/"
        },
        "id": "W67d9wPftkFH",
        "outputId": "35ea7e57-10ba-4b1c-e793-f4d365d84050"
      },
      "execution_count": 15,
      "outputs": [
        {
          "output_type": "stream",
          "name": "stdout",
          "text": [
            "Epoch 1/5\n",
            "1500/1500 [==============================] - 7s 5ms/step - loss: 0.5223 - accuracy: 0.8151 - val_loss: 0.4025 - val_accuracy: 0.8544\n",
            "Epoch 2/5\n",
            "1500/1500 [==============================] - 6s 4ms/step - loss: 0.3984 - accuracy: 0.8550 - val_loss: 0.3720 - val_accuracy: 0.8621\n",
            "Epoch 3/5\n",
            "1500/1500 [==============================] - 7s 4ms/step - loss: 0.3616 - accuracy: 0.8665 - val_loss: 0.3530 - val_accuracy: 0.8712\n",
            "Epoch 4/5\n",
            "1500/1500 [==============================] - 7s 4ms/step - loss: 0.3386 - accuracy: 0.8754 - val_loss: 0.3548 - val_accuracy: 0.8695\n",
            "Epoch 5/5\n",
            "1500/1500 [==============================] - 7s 4ms/step - loss: 0.3219 - accuracy: 0.8821 - val_loss: 0.3307 - val_accuracy: 0.8814\n"
          ]
        }
      ]
    },
    {
      "cell_type": "markdown",
      "source": [
        "# Sumário do modelo"
      ],
      "metadata": {
        "id": "MvkNF5VAytgW"
      }
    },
    {
      "cell_type": "code",
      "source": [
        "sumario_do_modelo = modelo.summary() # resumo do modelo"
      ],
      "metadata": {
        "colab": {
          "base_uri": "https://localhost:8080/"
        },
        "id": "9YBvsmLGtln9",
        "outputId": "e0661b2e-af1e-4bea-cdd4-259f7c20b2d6"
      },
      "execution_count": 23,
      "outputs": [
        {
          "output_type": "stream",
          "name": "stdout",
          "text": [
            "Model: \"sequential_1\"\n",
            "_________________________________________________________________\n",
            " Layer (type)                Output Shape              Param #   \n",
            "=================================================================\n",
            " flatten_1 (Flatten)         (None, 784)               0         \n",
            "                                                                 \n",
            " dense_2 (Dense)             (None, 256)               200960    \n",
            "                                                                 \n",
            " dropout_1 (Dropout)         (None, 256)               0         \n",
            "                                                                 \n",
            " dense_3 (Dense)             (None, 10)                2570      \n",
            "                                                                 \n",
            "=================================================================\n",
            "Total params: 203,530\n",
            "Trainable params: 203,530\n",
            "Non-trainable params: 0\n",
            "_________________________________________________________________\n"
          ]
        }
      ]
    },
    {
      "cell_type": "markdown",
      "source": [
        "# Pesos da primeira camada Dense"
      ],
      "metadata": {
        "id": "R68WhAF6yv27"
      }
    },
    {
      "cell_type": "code",
      "source": [
        "pesos_camada_dense = modelo.layers[1].get_weights()[0]\n",
        "pesos_camada_dense"
      ],
      "metadata": {
        "colab": {
          "base_uri": "https://localhost:8080/"
        },
        "id": "onFaR_wato30",
        "outputId": "84968af5-2f6b-42f7-de41-66fa0d04e6ea"
      },
      "execution_count": 29,
      "outputs": [
        {
          "output_type": "execute_result",
          "data": {
            "text/plain": [
              "array([[ 0.06204138,  0.06464661, -0.07813358, ..., -0.02070231,\n",
              "         0.11706514,  0.08932243],\n",
              "       [ 0.03863159,  0.08035568, -0.08651534, ...,  0.13153744,\n",
              "        -0.07326132, -0.01695209],\n",
              "       [ 0.15742059,  0.20607187, -0.06192109, ...,  0.09037412,\n",
              "        -0.2831139 ,  0.07886624],\n",
              "       ...,\n",
              "       [ 0.14687924,  0.15629289, -0.02407904, ..., -0.0222419 ,\n",
              "        -0.13459267,  0.16357589],\n",
              "       [ 0.15537384, -0.0711503 ,  0.13157676, ...,  0.02524221,\n",
              "        -0.09120568,  0.3822227 ],\n",
              "       [ 0.03183682, -0.00077198, -0.00665693, ...,  0.06841867,\n",
              "        -0.2404353 ,  0.38887885]], dtype=float32)"
            ]
          },
          "metadata": {},
          "execution_count": 29
        }
      ]
    },
    {
      "cell_type": "markdown",
      "source": [
        "# Vieses da primeira camada Dense"
      ],
      "metadata": {
        "id": "7uxUYEMh1R4s"
      }
    },
    {
      "cell_type": "code",
      "source": [
        "vieses_camada_dense = modelo.layers[1].get_weights()[1]\n",
        "vieses_camada_dense"
      ],
      "metadata": {
        "colab": {
          "base_uri": "https://localhost:8080/"
        },
        "id": "dXhFMun60oc7",
        "outputId": "d40bac61-f040-4523-fe95-e07621019b4e"
      },
      "execution_count": 30,
      "outputs": [
        {
          "output_type": "execute_result",
          "data": {
            "text/plain": [
              "array([ 0.07490485,  0.3077419 ,  0.04908099, -0.08235181, -0.25526384,\n",
              "        0.17413263, -0.02064081, -0.00825762, -0.09623387,  0.13103941,\n",
              "        0.2901423 , -0.0123888 ,  0.4338987 , -0.33973473, -0.01782738,\n",
              "        0.08302748,  0.12895876, -0.00566716, -0.01327462,  0.19135332,\n",
              "       -0.01052341,  0.11991823,  0.4611936 ,  0.15080544,  0.16447546,\n",
              "       -0.08211354,  0.18621707,  0.04574968,  0.11504319,  0.22746623,\n",
              "        0.00388886, -0.01192394,  0.1591919 ,  0.31131205, -0.2954763 ,\n",
              "       -0.15658519, -0.10962863,  0.57436454, -0.03566603,  0.01466554,\n",
              "       -0.27815244,  0.26008475, -0.25040275,  0.18189935, -0.21102321,\n",
              "        0.30161864,  0.18541454,  0.00613528, -0.19293672,  0.0757959 ,\n",
              "        0.4019869 , -0.01712605,  0.15320161,  0.21723877,  0.21567504,\n",
              "        0.15303823,  0.11572567,  0.06153271,  0.16832374,  0.10413539,\n",
              "       -0.35272396,  0.06295606, -0.08541155,  0.33232674, -0.17227192,\n",
              "        0.08401037, -0.02061965,  0.18766852,  0.2246231 , -0.01790602,\n",
              "        0.27391207,  0.5244582 ,  0.34078082,  0.16519482, -0.01184069,\n",
              "        0.145706  ,  0.05175248,  0.18954569,  0.12171246,  0.18149804,\n",
              "        0.2022307 ,  0.13158974,  0.16568716, -0.07627786,  0.140246  ,\n",
              "       -0.0105848 ,  0.03209065,  0.09203883,  0.13089323,  0.14222023,\n",
              "        0.20419925,  0.343135  ,  0.26101753,  0.11327517, -0.10137205,\n",
              "        0.15845852,  0.3156573 ,  0.4187164 ,  0.41240704,  0.03877647,\n",
              "        0.30110446,  0.03562642,  0.10665809,  0.03849775,  0.17586444,\n",
              "        0.03303446, -0.29527193,  0.17597878, -0.13634089,  0.02178637,\n",
              "       -0.15024956,  0.02383158,  0.2684143 ,  0.18289962,  0.04646985,\n",
              "        0.08273867,  0.24660651,  0.24707806,  0.2112937 ,  0.26305947,\n",
              "       -0.00985308,  0.2598523 ,  0.24986617,  0.2636032 ,  0.11912168,\n",
              "        0.05273319,  0.30660862,  0.17699753,  0.18062456,  0.28418103,\n",
              "        0.0982351 , -0.00900435,  0.09753887,  0.01152335,  0.30129385,\n",
              "       -0.01292048,  0.15877654,  0.29516205,  0.3276728 ,  0.17454347,\n",
              "       -0.01485748,  0.48693213,  0.3212192 , -0.10889006,  0.22493769,\n",
              "       -0.02950425,  0.29025593, -0.03462084,  0.13983954,  0.03053338,\n",
              "        0.11784351,  0.10922134, -0.22501305, -0.01098336, -0.02736234,\n",
              "        0.09378374,  0.21217796,  0.23107757,  0.03661623,  0.13454218,\n",
              "       -0.01183745, -0.1374866 ,  0.43230724,  0.2691997 ,  0.02829386,\n",
              "       -0.01402687,  0.30336574,  0.22327392, -0.16670732,  0.21432945,\n",
              "       -0.01768402, -0.09374814,  0.10452248,  0.03106169,  0.18600772,\n",
              "        0.24029237,  0.30036244, -0.01196598, -0.00732365, -0.06672873,\n",
              "        0.22206041,  0.31604737, -0.04403163,  0.3086191 , -0.00901965,\n",
              "        0.06856401,  0.0873779 ,  0.23769635, -0.21223949, -0.01567551,\n",
              "        0.08145906,  0.15542121,  0.259927  , -0.06819702, -0.00788279,\n",
              "       -0.14282764, -0.12830776,  0.2102976 ,  0.28544483, -0.0536286 ,\n",
              "        0.20011817,  0.0249247 , -0.0670902 ,  0.05571458,  0.06347498,\n",
              "        0.0743447 , -0.2123283 ,  0.1782954 , -0.00952861, -0.01923781,\n",
              "        0.23094814,  0.21321663,  0.16459526, -0.01936172,  0.07117424,\n",
              "        0.08061337, -0.03451061,  0.28726146,  0.05103096,  0.05014857,\n",
              "        0.15096658,  0.22255006,  0.05447359,  0.2359401 , -0.01557511,\n",
              "        0.16536929,  0.02837566,  0.17508323,  0.05221368,  0.1942531 ,\n",
              "        0.24431449,  0.28397062,  0.00774936, -0.10686752,  0.19250396,\n",
              "       -0.26020396, -0.03452944,  0.11287417,  0.2146312 ,  0.08042947,\n",
              "       -0.01978038,  0.24532819,  0.09076276,  0.12533335, -0.01338731,\n",
              "        0.1204639 , -0.02731148, -0.10583448,  0.18601298,  0.18363583,\n",
              "       -0.18450789,  0.10498087,  0.06586336,  0.08681163,  0.05648711,\n",
              "        0.15973487], dtype=float32)"
            ]
          },
          "metadata": {},
          "execution_count": 30
        }
      ]
    },
    {
      "cell_type": "markdown",
      "source": [
        "# Zerando pesos da primeira camada Dense"
      ],
      "metadata": {
        "id": "wN_ixbkM3Doe"
      }
    },
    {
      "cell_type": "code",
      "source": [
        "pesos_camada_dense_zerados = np.zeros(pesos_camada_dense.shape)\n",
        "pesos_camada_dense_zerados\n",
        "modelo.layers[1].set_weights([pesos_camada_dense_zerados, vieses_camada_dense])\n",
        "modelo.layers[1].get_weights()"
      ],
      "metadata": {
        "colab": {
          "base_uri": "https://localhost:8080/"
        },
        "id": "8CqEHC9o1iZQ",
        "outputId": "4418daac-9157-41d8-9c0e-abeb99d1b181"
      },
      "execution_count": 35,
      "outputs": [
        {
          "output_type": "execute_result",
          "data": {
            "text/plain": [
              "[array([[0., 0., 0., ..., 0., 0., 0.],\n",
              "        [0., 0., 0., ..., 0., 0., 0.],\n",
              "        [0., 0., 0., ..., 0., 0., 0.],\n",
              "        ...,\n",
              "        [0., 0., 0., ..., 0., 0., 0.],\n",
              "        [0., 0., 0., ..., 0., 0., 0.],\n",
              "        [0., 0., 0., ..., 0., 0., 0.]], dtype=float32),\n",
              " array([ 0.07490485,  0.3077419 ,  0.04908099, -0.08235181, -0.25526384,\n",
              "         0.17413263, -0.02064081, -0.00825762, -0.09623387,  0.13103941,\n",
              "         0.2901423 , -0.0123888 ,  0.4338987 , -0.33973473, -0.01782738,\n",
              "         0.08302748,  0.12895876, -0.00566716, -0.01327462,  0.19135332,\n",
              "        -0.01052341,  0.11991823,  0.4611936 ,  0.15080544,  0.16447546,\n",
              "        -0.08211354,  0.18621707,  0.04574968,  0.11504319,  0.22746623,\n",
              "         0.00388886, -0.01192394,  0.1591919 ,  0.31131205, -0.2954763 ,\n",
              "        -0.15658519, -0.10962863,  0.57436454, -0.03566603,  0.01466554,\n",
              "        -0.27815244,  0.26008475, -0.25040275,  0.18189935, -0.21102321,\n",
              "         0.30161864,  0.18541454,  0.00613528, -0.19293672,  0.0757959 ,\n",
              "         0.4019869 , -0.01712605,  0.15320161,  0.21723877,  0.21567504,\n",
              "         0.15303823,  0.11572567,  0.06153271,  0.16832374,  0.10413539,\n",
              "        -0.35272396,  0.06295606, -0.08541155,  0.33232674, -0.17227192,\n",
              "         0.08401037, -0.02061965,  0.18766852,  0.2246231 , -0.01790602,\n",
              "         0.27391207,  0.5244582 ,  0.34078082,  0.16519482, -0.01184069,\n",
              "         0.145706  ,  0.05175248,  0.18954569,  0.12171246,  0.18149804,\n",
              "         0.2022307 ,  0.13158974,  0.16568716, -0.07627786,  0.140246  ,\n",
              "        -0.0105848 ,  0.03209065,  0.09203883,  0.13089323,  0.14222023,\n",
              "         0.20419925,  0.343135  ,  0.26101753,  0.11327517, -0.10137205,\n",
              "         0.15845852,  0.3156573 ,  0.4187164 ,  0.41240704,  0.03877647,\n",
              "         0.30110446,  0.03562642,  0.10665809,  0.03849775,  0.17586444,\n",
              "         0.03303446, -0.29527193,  0.17597878, -0.13634089,  0.02178637,\n",
              "        -0.15024956,  0.02383158,  0.2684143 ,  0.18289962,  0.04646985,\n",
              "         0.08273867,  0.24660651,  0.24707806,  0.2112937 ,  0.26305947,\n",
              "        -0.00985308,  0.2598523 ,  0.24986617,  0.2636032 ,  0.11912168,\n",
              "         0.05273319,  0.30660862,  0.17699753,  0.18062456,  0.28418103,\n",
              "         0.0982351 , -0.00900435,  0.09753887,  0.01152335,  0.30129385,\n",
              "        -0.01292048,  0.15877654,  0.29516205,  0.3276728 ,  0.17454347,\n",
              "        -0.01485748,  0.48693213,  0.3212192 , -0.10889006,  0.22493769,\n",
              "        -0.02950425,  0.29025593, -0.03462084,  0.13983954,  0.03053338,\n",
              "         0.11784351,  0.10922134, -0.22501305, -0.01098336, -0.02736234,\n",
              "         0.09378374,  0.21217796,  0.23107757,  0.03661623,  0.13454218,\n",
              "        -0.01183745, -0.1374866 ,  0.43230724,  0.2691997 ,  0.02829386,\n",
              "        -0.01402687,  0.30336574,  0.22327392, -0.16670732,  0.21432945,\n",
              "        -0.01768402, -0.09374814,  0.10452248,  0.03106169,  0.18600772,\n",
              "         0.24029237,  0.30036244, -0.01196598, -0.00732365, -0.06672873,\n",
              "         0.22206041,  0.31604737, -0.04403163,  0.3086191 , -0.00901965,\n",
              "         0.06856401,  0.0873779 ,  0.23769635, -0.21223949, -0.01567551,\n",
              "         0.08145906,  0.15542121,  0.259927  , -0.06819702, -0.00788279,\n",
              "        -0.14282764, -0.12830776,  0.2102976 ,  0.28544483, -0.0536286 ,\n",
              "         0.20011817,  0.0249247 , -0.0670902 ,  0.05571458,  0.06347498,\n",
              "         0.0743447 , -0.2123283 ,  0.1782954 , -0.00952861, -0.01923781,\n",
              "         0.23094814,  0.21321663,  0.16459526, -0.01936172,  0.07117424,\n",
              "         0.08061337, -0.03451061,  0.28726146,  0.05103096,  0.05014857,\n",
              "         0.15096658,  0.22255006,  0.05447359,  0.2359401 , -0.01557511,\n",
              "         0.16536929,  0.02837566,  0.17508323,  0.05221368,  0.1942531 ,\n",
              "         0.24431449,  0.28397062,  0.00774936, -0.10686752,  0.19250396,\n",
              "        -0.26020396, -0.03452944,  0.11287417,  0.2146312 ,  0.08042947,\n",
              "        -0.01978038,  0.24532819,  0.09076276,  0.12533335, -0.01338731,\n",
              "         0.1204639 , -0.02731148, -0.10583448,  0.18601298,  0.18363583,\n",
              "        -0.18450789,  0.10498087,  0.06586336,  0.08681163,  0.05648711,\n",
              "         0.15973487], dtype=float32)]"
            ]
          },
          "metadata": {},
          "execution_count": 35
        }
      ]
    },
    {
      "cell_type": "markdown",
      "source": [
        "# Rodando modelo com pesos zerados"
      ],
      "metadata": {
        "id": "nNOArYRO2uBr"
      }
    },
    {
      "cell_type": "code",
      "source": [
        "modelo.compile(optimizer='adam', \n",
        "               loss='sparse_categorical_crossentropy',\n",
        "               metrics=['accuracy'])\n",
        "\n",
        "historico = modelo.fit(imagens_treino, identificacoes_treino, epochs=5, validation_split=0.2)"
      ],
      "metadata": {
        "colab": {
          "base_uri": "https://localhost:8080/"
        },
        "id": "_47Oa5kq2qs1",
        "outputId": "88965554-7508-4ed4-f0ed-1d556eb3937a"
      },
      "execution_count": 36,
      "outputs": [
        {
          "output_type": "stream",
          "name": "stdout",
          "text": [
            "Epoch 1/5\n",
            "1500/1500 [==============================] - 7s 4ms/step - loss: 0.5339 - accuracy: 0.8103 - val_loss: 0.4114 - val_accuracy: 0.8518\n",
            "Epoch 2/5\n",
            "1500/1500 [==============================] - 7s 4ms/step - loss: 0.4054 - accuracy: 0.8526 - val_loss: 0.3705 - val_accuracy: 0.8669\n",
            "Epoch 3/5\n",
            "1500/1500 [==============================] - 6s 4ms/step - loss: 0.3749 - accuracy: 0.8632 - val_loss: 0.3584 - val_accuracy: 0.8708\n",
            "Epoch 4/5\n",
            "1500/1500 [==============================] - 7s 5ms/step - loss: 0.3509 - accuracy: 0.8692 - val_loss: 0.3750 - val_accuracy: 0.8633\n",
            "Epoch 5/5\n",
            "1500/1500 [==============================] - 6s 4ms/step - loss: 0.3338 - accuracy: 0.8770 - val_loss: 0.3538 - val_accuracy: 0.8718\n"
          ]
        }
      ]
    },
    {
      "cell_type": "code",
      "source": [
        "modelo.save('modelo.h5')\n",
        "modelo_salvo = load_model('modelo.h5')"
      ],
      "metadata": {
        "id": "5dbfEqk9trCk"
      },
      "execution_count": 37,
      "outputs": []
    },
    {
      "cell_type": "code",
      "source": [
        "plt.plot(historico.history['accuracy'])\n",
        "plt.plot(historico.history['val_accuracy'])\n",
        "plt.title('Acurácia por épocas')\n",
        "plt.xlabel('épocas')\n",
        "plt.ylabel('acurácia')\n",
        "plt.legend(['treino', 'validação'])"
      ],
      "metadata": {
        "colab": {
          "base_uri": "https://localhost:8080/",
          "height": 313
        },
        "id": "6ZlZYQcRts1E",
        "outputId": "033bb7e4-fd6d-4492-a8f5-14b8b2b47315"
      },
      "execution_count": 38,
      "outputs": [
        {
          "output_type": "execute_result",
          "data": {
            "text/plain": [
              "<matplotlib.legend.Legend at 0x7f01304e4dd0>"
            ]
          },
          "metadata": {},
          "execution_count": 38
        },
        {
          "output_type": "display_data",
          "data": {
            "text/plain": [
              "<Figure size 432x288 with 1 Axes>"
            ],
            "image/png": "[encoded data removed]"
          },
          "metadata": {
            "needs_background": "light"
          }
        }
      ]
    },
    {
      "cell_type": "code",
      "source": [
        "plt.plot(historico.history['loss'])\n",
        "plt.plot(historico.history['val_loss'])\n",
        "plt.title('Perda por épocas')\n",
        "plt.xlabel('épocas')\n",
        "plt.ylabel('perda')\n",
        "plt.legend(['treino', 'validação'])"
      ],
      "metadata": {
        "colab": {
          "base_uri": "https://localhost:8080/",
          "height": 313
        },
        "id": "Fsk08k3otuFC",
        "outputId": "336f5047-7ae5-49ff-ce7f-47e4a8e9b1ed"
      },
      "execution_count": 39,
      "outputs": [
        {
          "output_type": "execute_result",
          "data": {
            "text/plain": [
              "<matplotlib.legend.Legend at 0x7f013052af50>"
            ]
          },
          "metadata": {},
          "execution_count": 39
        },
        {
          "output_type": "display_data",
          "data": {
            "text/plain": [
              "<Figure size 432x288 with 1 Axes>"
            ],
            "image/png": "[encoded data removed]"
          },
          "metadata": {
            "needs_background": "light"
          }
        }
      ]
    },
    {
      "cell_type": "code",
      "source": [
        "testes = modelo.predict(imagens_teste)\n",
        "print('resultado teste:', np.argmax(testes[1]))\n",
        "print('número da imagem de teste:', identificacoes_teste[1])\n",
        "\n",
        "testes_modelo_salvo = modelo_salvo.predict(imagens_teste)\n",
        "print('resultado teste modelo salvo:', np.argmax(testes_modelo_salvo[1]))\n",
        "print('número da imagem de teste:', identificacoes_teste[1])"
      ],
      "metadata": {
        "colab": {
          "base_uri": "https://localhost:8080/"
        },
        "id": "67kRklzatwdk",
        "outputId": "2db03a98-03a3-4ae5-d003-9caaa232b3cb"
      },
      "execution_count": 21,
      "outputs": [
        {
          "output_type": "stream",
          "name": "stdout",
          "text": [
            "resultado teste: 2\n",
            "número da imagem de teste: 2\n",
            "resultado teste modelo salvo: 2\n",
            "número da imagem de teste: 2\n"
          ]
        }
      ]
    },
    {
      "cell_type": "code",
      "source": [
        "perda_teste, acuracia_teste = modelo.evaluate(imagens_teste, identificacoes_teste)\n",
        "print('Perda do teste:', perda_teste)\n",
        "print('Acurácia do teste:', acuracia_teste)"
      ],
      "metadata": {
        "colab": {
          "base_uri": "https://localhost:8080/"
        },
        "id": "cW3Cc0x6tyAY",
        "outputId": "4d373c74-36d2-4554-a93e-6cafdc1025bf"
      },
      "execution_count": 22,
      "outputs": [
        {
          "output_type": "stream",
          "name": "stdout",
          "text": [
            "313/313 [==============================] - 1s 3ms/step - loss: 0.3633 - accuracy: 0.8714\n",
            "Perda do teste: 0.3633272051811218\n",
            "Acurácia do teste: 0.871399998664856\n"
          ]
        }
      ]
    }
  ]
}